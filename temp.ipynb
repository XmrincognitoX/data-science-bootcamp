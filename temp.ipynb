{
  "nbformat": 4,
  "nbformat_minor": 0,
  "metadata": {
    "colab": {
      "provenance": [],
      "mount_file_id": "15xnNq4A9suThz8iBZIF6Y1mPsR9I23qq",
      "authorship_tag": "ABX9TyMy1eDfnardgi9y8TSi58Gv",
      "include_colab_link": true
    },
    "kernelspec": {
      "name": "python3",
      "display_name": "Python 3"
    },
    "language_info": {
      "name": "python"
    }
  },
  "cells": [
    {
      "cell_type": "markdown",
      "metadata": {
        "id": "view-in-github",
        "colab_type": "text"
      },
      "source": [
        "<a href=\"https://colab.research.google.com/github/XmrincognitoX/data-science-bootcamp/blob/main/temp.ipynb\" target=\"_parent\"><img src=\"https://colab.research.google.com/assets/colab-badge.svg\" alt=\"Open In Colab\"/></a>"
      ]
    },
    {
      "cell_type": "code",
      "execution_count": null,
      "metadata": {
        "colab": {
          "base_uri": "https://localhost:8080/"
        },
        "id": "d5QIrXeDt4CA",
        "outputId": "a27bcbda-ac1d-489a-e4da-2ca5ef47278f"
      },
      "outputs": [
        {
          "output_type": "stream",
          "name": "stdout",
          "text": [
            "Hello Colab\n"
          ]
        }
      ],
      "source": [
        "print('Hello Colab')"
      ]
    },
    {
      "cell_type": "markdown",
      "source": [
        "Przestrzeń lub płaszczyzna dla jakiegoś przekształcenia argumetów w odpowiadającą im wartość to środowisko danego odwzorowania. Wymiar to wzajemne zależności między przekształceniami/odwzorowaniami."
      ],
      "metadata": {
        "id": "sE1CnU61oRjI"
      }
    },
    {
      "cell_type": "code",
      "source": [
        "list(enumerate(['a','b','c']))"
      ],
      "metadata": {
        "colab": {
          "base_uri": "https://localhost:8080/"
        },
        "id": "NS8FfXA8qL0c",
        "outputId": "39730d5d-4359-49fe-fc59-d7c4ce1157cd"
      },
      "execution_count": null,
      "outputs": [
        {
          "output_type": "execute_result",
          "data": {
            "text/plain": [
              "[(0, 'a'), (1, 'b'), (2, 'c')]"
            ]
          },
          "metadata": {},
          "execution_count": 7
        }
      ]
    }
  ]
}